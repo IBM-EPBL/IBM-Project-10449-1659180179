{
  "nbformat": 4,
  "nbformat_minor": 0,
  "metadata": {
    "colab": {
      "provenance": []
    },
    "kernelspec": {
      "name": "python3",
      "display_name": "Python 3"
    },
    "language_info": {
      "name": "python"
    },
    "accelerator": "GPU",
    "gpuClass": "standard"
  },
  "cells": [
    {
      "cell_type": "markdown",
      "source": [
        "# Import Libraries"
      ],
      "metadata": {
        "id": "KCfb4-MrzTdl"
      }
    },
    {
      "cell_type": "code",
      "execution_count": 13,
      "metadata": {
        "id": "n2HTyN5R18VK"
      },
      "outputs": [],
      "source": [
        "import cv2\n",
        "import numpy as np\n",
        "import tensorflow as tf\n",
        "from keras.datasets import mnist\n",
        "from keras.layers import Dense, Flatten, MaxPooling2D, Dropout\n",
        "from keras.layers.convolutional import Conv2D\n",
        "from keras.models import Sequential\n",
        "from tf.keras.utils import to_categorical\n",
        "from tf.keras.models import load_model\n",
        "import matplotlib.pyplot as plt"
      ]
    },
    {
      "cell_type": "markdown",
      "source": [
        "# Loading data"
      ],
      "metadata": {
        "id": "N6ortSZ-zVtz"
      }
    },
    {
      "cell_type": "code",
      "source": [
        "(X_train, y_train), (X_test, y_test) = mnist.load_data()"
      ],
      "metadata": {
        "id": "Ztm8pJOi2Lee",
        "colab": {
          "base_uri": "https://localhost:8080/"
        },
        "outputId": "cc40d727-4297-4b84-825a-3201df98b89f"
      },
      "execution_count": 2,
      "outputs": [
        {
          "output_type": "stream",
          "name": "stdout",
          "text": [
            "Downloading data from https://storage.googleapis.com/tensorflow/tf-keras-datasets/mnist.npz\n",
            "11490434/11490434 [==============================] - 1s 0us/step\n"
          ]
        }
      ]
    },
    {
      "cell_type": "code",
      "source": [
        "plt.imshow(X_train[0], cmap=\"gray\")"
      ],
      "metadata": {
        "colab": {
          "base_uri": "https://localhost:8080/",
          "height": 282
        },
        "id": "ZiHEtekz2PiT",
        "outputId": "2c1f1680-bfcf-4d7d-d3f6-2faf92fb1454"
      },
      "execution_count": 3,
      "outputs": [
        {
          "output_type": "execute_result",
          "data": {
            "text/plain": [
              "<matplotlib.image.AxesImage at 0x7fa2e68a21d0>"
            ]
          },
          "metadata": {},
          "execution_count": 3
        },
        {
          "output_type": "display_data",
          "data": {
            "text/plain": [
              "<Figure size 432x288 with 1 Axes>"
            ],
            "image/png": "[encoded data removed]"
          },
          "metadata": {
            "needs_background": "light"
          }
        }
      ]
    },
    {
      "cell_type": "code",
      "source": [
        "print (y_train[0])"
      ],
      "metadata": {
        "colab": {
          "base_uri": "https://localhost:8080/"
        },
        "id": "hbY5XVtM2Wwd",
        "outputId": "8200eb9e-c1b8-4b1c-b29d-42f1acf7dc89"
      },
      "execution_count": 4,
      "outputs": [
        {
          "output_type": "stream",
          "name": "stdout",
          "text": [
            "5\n"
          ]
        }
      ]
    },
    {
      "cell_type": "markdown",
      "source": [
        "Shape of the data"
      ],
      "metadata": {
        "id": "VLMB7RXCzaPc"
      }
    },
    {
      "cell_type": "code",
      "source": [
        "print (\"Shape of X_train: {}\".format(X_train.shape))\n",
        "print (\"Shape of y_train: {}\".format(y_train.shape))\n",
        "print (\"Shape of X_test: {}\".format(X_test.shape))\n",
        "print (\"Shape of y_test: {}\".format(y_test.shape))"
      ],
      "metadata": {
        "colab": {
          "base_uri": "https://localhost:8080/"
        },
        "id": "nupFllsb2bnv",
        "outputId": "812b130b-a9a0-4331-bb55-1dcff08b830a"
      },
      "execution_count": 5,
      "outputs": [
        {
          "output_type": "stream",
          "name": "stdout",
          "text": [
            "Shape of X_train: (60000, 28, 28)\n",
            "Shape of y_train: (60000,)\n",
            "Shape of X_test: (10000, 28, 28)\n",
            "Shape of y_test: (10000,)\n"
          ]
        }
      ]
    },
    {
      "cell_type": "markdown",
      "source": [
        "## Reshaping data to feed to the model"
      ],
      "metadata": {
        "id": "XTWqXVnmzcyK"
      }
    },
    {
      "cell_type": "code",
      "source": [
        "X_train = X_train.reshape(60000, 28, 28, 1)\n",
        "X_test = X_test.reshape(10000, 28, 28, 1)"
      ],
      "metadata": {
        "id": "Hi8J-OWB2tj5"
      },
      "execution_count": 6,
      "outputs": []
    },
    {
      "cell_type": "code",
      "source": [
        "print (\"Shape of X_train: {}\".format(X_train.shape))\n",
        "print (\"Shape of y_train: {}\".format(y_train.shape))\n",
        "print (\"Shape of X_test: {}\".format(X_test.shape))\n",
        "print (\"Shape of y_test: {}\".format(y_test.shape))"
      ],
      "metadata": {
        "colab": {
          "base_uri": "https://localhost:8080/"
        },
        "id": "D54xqlED2zAP",
        "outputId": "8b643538-997a-47e1-c145-ab66add1e96b"
      },
      "execution_count": 7,
      "outputs": [
        {
          "output_type": "stream",
          "name": "stdout",
          "text": [
            "Shape of X_train: (60000, 28, 28, 1)\n",
            "Shape of y_train: (60000,)\n",
            "Shape of X_test: (10000, 28, 28, 1)\n",
            "Shape of y_test: (10000,)\n"
          ]
        }
      ]
    },
    {
      "cell_type": "markdown",
      "source": [
        "# One-Hot encoding of labels"
      ],
      "metadata": {
        "id": "_fre1WBUzixv"
      }
    },
    {
      "cell_type": "code",
      "source": [
        "y_train = to_categorical(y_train)\n",
        "y_test = to_categorical(y_test)"
      ],
      "metadata": {
        "id": "qLDgpYZv23pl"
      },
      "execution_count": 8,
      "outputs": []
    },
    {
      "cell_type": "markdown",
      "source": [
        "# Model Building"
      ],
      "metadata": {
        "id": "N4l_0JJvzmnV"
      }
    },
    {
      "cell_type": "code",
      "source": [
        "model = Sequential()"
      ],
      "metadata": {
        "id": "jfNvtHYy24_9"
      },
      "execution_count": 9,
      "outputs": []
    },
    {
      "cell_type": "markdown",
      "source": [
        "## Define and Initialize the model layers"
      ],
      "metadata": {
        "id": "3h89xYZe0weY"
      }
    },
    {
      "cell_type": "code",
      "source": [
        "layer_1 = Conv2D(64, kernel_size=3, activation='relu', input_shape=(28, 28, 1))\n",
        "layer_2 = MaxPooling2D(pool_size=2)\n",
        "layer_3 = Conv2D(32, kernel_size=3, activation='relu')\n",
        "layer_4 = MaxPooling2D(pool_size=2)\n",
        "layer_5 = Dropout(0.5)\n",
        "layer_6 = Flatten()\n",
        "layer_7 = Dense(128, activation=\"relu\")\n",
        "layer_8 = Dropout(0.5)\n",
        "layer_9 = Dense(10, activation='softmax')"
      ],
      "metadata": {
        "id": "o6jti4L82-3b"
      },
      "execution_count": 10,
      "outputs": []
    },
    {
      "cell_type": "markdown",
      "source": [
        "## Add the layers to the model"
      ],
      "metadata": {
        "id": "FDH9fwiy02sX"
      }
    },
    {
      "cell_type": "code",
      "source": [
        "model.add(layer_1)\n",
        "model.add(layer_2)\n",
        "model.add(layer_3)\n",
        "model.add(layer_4)\n",
        "model.add(layer_5)\n",
        "model.add(layer_6)\n",
        "model.add(layer_7)\n",
        "model.add(layer_8)\n",
        "model.add(layer_9)"
      ],
      "metadata": {
        "id": "XQQXlrYU3EKo"
      },
      "execution_count": 11,
      "outputs": []
    },
    {
      "cell_type": "markdown",
      "source": [
        "# Model Compilation"
      ],
      "metadata": {
        "id": "OEoN8yos04Oj"
      }
    },
    {
      "cell_type": "markdown",
      "source": [
        "Using Adam optimizer\n",
        "\n",
        "Accuracy is the appropriate evaluation metric."
      ],
      "metadata": {
        "id": "x5xSCuG906LI"
      }
    },
    {
      "cell_type": "code",
      "source": [
        "model.compile(optimizer='adam', loss='categorical_crossentropy', metrics=['accuracy'])"
      ],
      "metadata": {
        "id": "ZsHEucwG3JRI"
      },
      "execution_count": 12,
      "outputs": []
    },
    {
      "cell_type": "markdown",
      "source": [
        "## Model Training and Validation"
      ],
      "metadata": {
        "id": "7FLjUsnG1FDf"
      }
    },
    {
      "cell_type": "code",
      "source": [
        "history = model.fit(X_train, y_train, validation_data=(X_test, y_test), epochs=6)"
      ],
      "metadata": {
        "colab": {
          "base_uri": "https://localhost:8080/"
        },
        "id": "HzcAP3ae3NFL",
        "outputId": "2fcc0d10-c465-4100-f2cd-fadcbab6e4be"
      },
      "execution_count": null,
      "outputs": [
        {
          "output_type": "stream",
          "name": "stdout",
          "text": [
            "Epoch 1/6\n",
            "1875/1875 [==============================] - 14s 6ms/step - loss: 0.9682 - accuracy: 0.7557 - val_loss: 0.1297 - val_accuracy: 0.9599\n",
            "Epoch 2/6\n",
            "1875/1875 [==============================] - 12s 7ms/step - loss: 0.2922 - accuracy: 0.9134 - val_loss: 0.0755 - val_accuracy: 0.9763\n",
            "Epoch 3/6\n",
            "1875/1875 [==============================] - 9s 5ms/step - loss: 0.2249 - accuracy: 0.9334 - val_loss: 0.0655 - val_accuracy: 0.9798\n",
            "Epoch 4/6\n",
            "1875/1875 [==============================] - 8s 4ms/step - loss: 0.1909 - accuracy: 0.9444 - val_loss: 0.0588 - val_accuracy: 0.9810\n",
            "Epoch 5/6\n",
            "1875/1875 [==============================] - 8s 4ms/step - loss: 0.1633 - accuracy: 0.9524 - val_loss: 0.0572 - val_accuracy: 0.9814\n",
            "Epoch 6/6\n",
            "1875/1875 [==============================] - 8s 4ms/step - loss: 0.1501 - accuracy: 0.9560 - val_loss: 0.0445 - val_accuracy: 0.9864\n"
          ]
        }
      ]
    },
    {
      "cell_type": "markdown",
      "source": [
        "## Model Training Plot"
      ],
      "metadata": {
        "id": "gXafbR3m4spI"
      }
    },
    {
      "cell_type": "markdown",
      "source": [
        "Accuracy"
      ],
      "metadata": {
        "id": "-T-Z7Kd14uyn"
      }
    },
    {
      "cell_type": "code",
      "source": [
        "plt.plot(history.history['accuracy'])\n",
        "plt.plot(history.history['val_accuracy'])\n",
        "plt.title('Accuracy')\n",
        "plt.ylabel('accuracy')\n",
        "plt.xlabel('epoch')\n",
        "plt.legend(['train', 'val'], loc='upper left')\n",
        "plt.show()"
      ],
      "metadata": {
        "colab": {
          "base_uri": "https://localhost:8080/",
          "height": 295
        },
        "id": "_EnmyEcX47YA",
        "outputId": "4c4df086-e76c-4c40-ad0d-3324b8b0809b"
      },
      "execution_count": null,
      "outputs": [
        {
          "output_type": "display_data",
          "data": {
            "text/plain": [
              "<Figure size 432x288 with 1 Axes>"
            ],
            "image/png": "[encoded data removed]"
          },
          "metadata": {
            "needs_background": "light"
          }
        }
      ]
    },
    {
      "cell_type": "markdown",
      "source": [
        "Loss"
      ],
      "metadata": {
        "id": "-o7hWh7I4_lc"
      }
    },
    {
      "cell_type": "code",
      "source": [
        "plt.plot(history.history['loss'])\n",
        "plt.plot(history.history['val_loss'])\n",
        "plt.title('Loss')\n",
        "plt.ylabel('loss')\n",
        "plt.xlabel('epoch')\n",
        "plt.legend(['train', 'val'], loc='upper left')\n",
        "plt.show()"
      ],
      "metadata": {
        "colab": {
          "base_uri": "https://localhost:8080/",
          "height": 295
        },
        "id": "9xTWMSm848Zi",
        "outputId": "85b034df-0292-4934-e12d-c917af973516"
      },
      "execution_count": null,
      "outputs": [
        {
          "output_type": "display_data",
          "data": {
            "text/plain": [
              "<Figure size 432x288 with 1 Axes>"
            ],
            "image/png": "[encoded data removed]"
          },
          "metadata": {
            "needs_background": "light"
          }
        }
      ]
    },
    {
      "cell_type": "markdown",
      "source": [
        "As we can observe, a high level of validation accuracy is reached within a small number of epochs"
      ],
      "metadata": {
        "id": "5zcaocvN4Tdh"
      }
    },
    {
      "cell_type": "markdown",
      "source": [
        "# Tuning the model"
      ],
      "metadata": {
        "id": "xikyom4k7dqA"
      }
    },
    {
      "cell_type": "markdown",
      "source": [
        "## Adding more convolutional layers"
      ],
      "metadata": {
        "id": "uUET5gYN7ded"
      }
    },
    {
      "cell_type": "code",
      "source": [
        "# Building model\n",
        "model2 = Sequential()\n",
        "\n",
        "model2.add(Conv2D(64, kernel_size=3, activation='relu', input_shape=(28, 28, 1)))\n",
        "model2.add(MaxPooling2D(pool_size=2))\n",
        "model2.add(Conv2D(32, kernel_size=3, activation='relu'))\n",
        "model2.add(MaxPooling2D(pool_size=2))\n",
        "model2.add(Conv2D(32, kernel_size=3, activation='relu'))\n",
        "model2.add(MaxPooling2D(pool_size=2))\n",
        "model2.add(Dropout(0.5))\n",
        "model2.add(Flatten())\n",
        "model2.add(Dense(128, activation=\"relu\"))\n",
        "model2.add(Dropout(0.5))\n",
        "model2.add(Dense(10, activation='softmax'))\n",
        "\n",
        "# Defining Callbacks\n",
        "callbacks = [tf.keras.callbacks.EarlyStopping(monitor='val_loss', patience=3, restore_best_weights=True)]\n",
        "\n",
        "# Compile the model\n",
        "model2.compile(optimizer='adam', loss='categorical_crossentropy', metrics=['accuracy'])\n",
        "\n",
        "# Fitting to the model\n",
        "history2 = model2.fit(X_train, y_train, validation_data=(X_test, y_test), epochs=15, callbacks=callbacks)"
      ],
      "metadata": {
        "colab": {
          "base_uri": "https://localhost:8080/"
        },
        "id": "c28EoIem7dUk",
        "outputId": "b30d40cd-fe9a-484d-cee9-376370935398"
      },
      "execution_count": 15,
      "outputs": [
        {
          "output_type": "stream",
          "name": "stdout",
          "text": [
            "Epoch 1/15\n",
            "1875/1875 [==============================] - 18s 5ms/step - loss: 1.8387 - accuracy: 0.3341 - val_loss: 0.9280 - val_accuracy: 0.6674\n",
            "Epoch 2/15\n",
            "1875/1875 [==============================] - 10s 5ms/step - loss: 0.8586 - accuracy: 0.7091 - val_loss: 0.2992 - val_accuracy: 0.9387\n",
            "Epoch 3/15\n",
            "1875/1875 [==============================] - 8s 4ms/step - loss: 0.6065 - accuracy: 0.8105 - val_loss: 0.2260 - val_accuracy: 0.9581\n",
            "Epoch 4/15\n",
            "1875/1875 [==============================] - 9s 5ms/step - loss: 0.5067 - accuracy: 0.8443 - val_loss: 0.1800 - val_accuracy: 0.9631\n",
            "Epoch 5/15\n",
            "1875/1875 [==============================] - 8s 4ms/step - loss: 0.4456 - accuracy: 0.8678 - val_loss: 0.1680 - val_accuracy: 0.9648\n",
            "Epoch 6/15\n",
            "1875/1875 [==============================] - 9s 5ms/step - loss: 0.4046 - accuracy: 0.8835 - val_loss: 0.1739 - val_accuracy: 0.9660\n",
            "Epoch 7/15\n",
            "1875/1875 [==============================] - 8s 4ms/step - loss: 0.3858 - accuracy: 0.8876 - val_loss: 0.1562 - val_accuracy: 0.9680\n",
            "Epoch 8/15\n",
            "1875/1875 [==============================] - 10s 5ms/step - loss: 0.3688 - accuracy: 0.8941 - val_loss: 0.1596 - val_accuracy: 0.9647\n",
            "Epoch 9/15\n",
            "1875/1875 [==============================] - 12s 6ms/step - loss: 0.3571 - accuracy: 0.8979 - val_loss: 0.1647 - val_accuracy: 0.9624\n",
            "Epoch 10/15\n",
            "1875/1875 [==============================] - 11s 6ms/step - loss: 0.3484 - accuracy: 0.8995 - val_loss: 0.1465 - val_accuracy: 0.9675\n",
            "Epoch 11/15\n",
            "1875/1875 [==============================] - 9s 5ms/step - loss: 0.3428 - accuracy: 0.9022 - val_loss: 0.1509 - val_accuracy: 0.9697\n",
            "Epoch 12/15\n",
            "1875/1875 [==============================] - 9s 5ms/step - loss: 0.3436 - accuracy: 0.9025 - val_loss: 0.1449 - val_accuracy: 0.9693\n",
            "Epoch 13/15\n",
            "1875/1875 [==============================] - 8s 4ms/step - loss: 0.3299 - accuracy: 0.9059 - val_loss: 0.1443 - val_accuracy: 0.9707\n",
            "Epoch 14/15\n",
            "1875/1875 [==============================] - 9s 5ms/step - loss: 0.3181 - accuracy: 0.9098 - val_loss: 0.1331 - val_accuracy: 0.9707\n",
            "Epoch 15/15\n",
            "1875/1875 [==============================] - 8s 4ms/step - loss: 0.3191 - accuracy: 0.9098 - val_loss: 0.1510 - val_accuracy: 0.9725\n"
          ]
        }
      ]
    },
    {
      "cell_type": "markdown",
      "source": [
        "## Increasing number of filters"
      ],
      "metadata": {
        "id": "hNnFMGVg7c2k"
      }
    },
    {
      "cell_type": "code",
      "source": [
        "# Building model\n",
        "model3 = Sequential()\n",
        "\n",
        "model3.add(Conv2D(128, kernel_size=3, activation='relu', input_shape=(28, 28, 1)))\n",
        "model3.add(MaxPooling2D(pool_size=2))\n",
        "model3.add(Conv2D(64, kernel_size=3, activation='relu'))\n",
        "model3.add(MaxPooling2D(pool_size=2))\n",
        "model3.add(Dropout(0.5))\n",
        "model3.add(Flatten())\n",
        "model3.add(Dense(128, activation=\"relu\"))\n",
        "model3.add(Dropout(0.5))\n",
        "model3.add(Dense(10, activation='softmax'))\n",
        "\n",
        "# Defining Callbacks\n",
        "callbacks = [tf.keras.callbacks.EarlyStopping(monitor='val_loss', patience=3, restore_best_weights=True)]\n",
        "\n",
        "# Compile the model\n",
        "model3.compile(optimizer='adam', loss='categorical_crossentropy', metrics=['accuracy'])\n",
        "\n",
        "# Fitting to the model\n",
        "history3 = model3.fit(X_train, y_train, validation_data=(X_test, y_test), epochs=15, callbacks=callbacks)"
      ],
      "metadata": {
        "colab": {
          "base_uri": "https://localhost:8080/"
        },
        "id": "qglZWpFg7cto",
        "outputId": "c716a3f3-8ab5-4b58-f182-9da48e25903e"
      },
      "execution_count": 16,
      "outputs": [
        {
          "output_type": "stream",
          "name": "stdout",
          "text": [
            "Epoch 1/15\n",
            "1875/1875 [==============================] - 9s 5ms/step - loss: 0.6346 - accuracy: 0.8424 - val_loss: 0.0829 - val_accuracy: 0.9728\n",
            "Epoch 2/15\n",
            "1875/1875 [==============================] - 8s 4ms/step - loss: 0.2235 - accuracy: 0.9360 - val_loss: 0.0629 - val_accuracy: 0.9806\n",
            "Epoch 3/15\n",
            "1875/1875 [==============================] - 9s 5ms/step - loss: 0.1705 - accuracy: 0.9504 - val_loss: 0.0665 - val_accuracy: 0.9807\n",
            "Epoch 4/15\n",
            "1875/1875 [==============================] - 7s 4ms/step - loss: 0.1423 - accuracy: 0.9589 - val_loss: 0.0586 - val_accuracy: 0.9810\n",
            "Epoch 5/15\n",
            "1875/1875 [==============================] - 8s 4ms/step - loss: 0.1322 - accuracy: 0.9622 - val_loss: 0.0465 - val_accuracy: 0.9852\n",
            "Epoch 6/15\n",
            "1875/1875 [==============================] - 8s 4ms/step - loss: 0.1199 - accuracy: 0.9666 - val_loss: 0.0456 - val_accuracy: 0.9853\n",
            "Epoch 7/15\n",
            "1875/1875 [==============================] - 8s 4ms/step - loss: 0.1112 - accuracy: 0.9678 - val_loss: 0.0435 - val_accuracy: 0.9857\n",
            "Epoch 8/15\n",
            "1875/1875 [==============================] - 8s 4ms/step - loss: 0.1048 - accuracy: 0.9703 - val_loss: 0.0368 - val_accuracy: 0.9882\n",
            "Epoch 9/15\n",
            "1875/1875 [==============================] - 8s 4ms/step - loss: 0.1001 - accuracy: 0.9718 - val_loss: 0.0387 - val_accuracy: 0.9881\n",
            "Epoch 10/15\n",
            "1875/1875 [==============================] - 8s 4ms/step - loss: 0.0994 - accuracy: 0.9715 - val_loss: 0.0382 - val_accuracy: 0.9893\n",
            "Epoch 11/15\n",
            "1875/1875 [==============================] - 9s 5ms/step - loss: 0.0974 - accuracy: 0.9719 - val_loss: 0.0377 - val_accuracy: 0.9879\n"
          ]
        }
      ]
    },
    {
      "cell_type": "markdown",
      "source": [
        "## Reducing Dropout and Increasing nodes in Dense Layer"
      ],
      "metadata": {
        "id": "cwSVj2cF7clS"
      }
    },
    {
      "cell_type": "code",
      "source": [
        "# Building model\n",
        "model4 = Sequential()\n",
        "\n",
        "model4.add(Conv2D(128, kernel_size=3, activation='relu', input_shape=(28, 28, 1)))\n",
        "model4.add(MaxPooling2D(pool_size=2))\n",
        "model4.add(Conv2D(64, kernel_size=3, activation='relu'))\n",
        "model4.add(MaxPooling2D(pool_size=2))\n",
        "model4.add(Dropout(0.3))\n",
        "model4.add(Flatten())\n",
        "model4.add(Dense(256, activation=\"relu\"))\n",
        "model4.add(Dropout(0.3))\n",
        "model4.add(Dense(10, activation='softmax'))\n",
        "\n",
        "# Defining Callbacks\n",
        "callbacks = [tf.keras.callbacks.EarlyStopping(monitor='val_loss', patience=3, restore_best_weights=True)]\n",
        "\n",
        "# Compile the model\n",
        "model4.compile(optimizer='adam', loss='categorical_crossentropy', metrics=['accuracy'])\n",
        "\n",
        "# Fitting to the model\n",
        "history4 = model4.fit(X_train, y_train, validation_data=(X_test, y_test), epochs=15, callbacks=callbacks)"
      ],
      "metadata": {
        "colab": {
          "base_uri": "https://localhost:8080/"
        },
        "id": "btIadLSj7cck",
        "outputId": "5c0417c6-42c7-4778-d2fe-87cdce77396c"
      },
      "execution_count": 17,
      "outputs": [
        {
          "output_type": "stream",
          "name": "stdout",
          "text": [
            "Epoch 1/15\n",
            "1875/1875 [==============================] - 9s 4ms/step - loss: 0.3059 - accuracy: 0.9273 - val_loss: 0.0706 - val_accuracy: 0.9754\n",
            "Epoch 2/15\n",
            "1875/1875 [==============================] - 8s 4ms/step - loss: 0.1097 - accuracy: 0.9673 - val_loss: 0.0543 - val_accuracy: 0.9824\n",
            "Epoch 3/15\n",
            "1875/1875 [==============================] - 8s 4ms/step - loss: 0.0913 - accuracy: 0.9731 - val_loss: 0.0454 - val_accuracy: 0.9854\n",
            "Epoch 4/15\n",
            "1875/1875 [==============================] - 8s 4ms/step - loss: 0.0784 - accuracy: 0.9765 - val_loss: 0.0417 - val_accuracy: 0.9882\n",
            "Epoch 5/15\n",
            "1875/1875 [==============================] - 9s 5ms/step - loss: 0.0718 - accuracy: 0.9791 - val_loss: 0.0343 - val_accuracy: 0.9892\n",
            "Epoch 6/15\n",
            "1875/1875 [==============================] - 8s 4ms/step - loss: 0.0644 - accuracy: 0.9813 - val_loss: 0.0441 - val_accuracy: 0.9862\n",
            "Epoch 7/15\n",
            "1875/1875 [==============================] - 8s 4ms/step - loss: 0.0580 - accuracy: 0.9829 - val_loss: 0.0365 - val_accuracy: 0.9890\n",
            "Epoch 8/15\n",
            "1875/1875 [==============================] - 8s 4ms/step - loss: 0.0556 - accuracy: 0.9839 - val_loss: 0.0340 - val_accuracy: 0.9889\n",
            "Epoch 9/15\n",
            "1875/1875 [==============================] - 8s 4ms/step - loss: 0.0543 - accuracy: 0.9846 - val_loss: 0.0380 - val_accuracy: 0.9881\n",
            "Epoch 10/15\n",
            "1875/1875 [==============================] - 8s 4ms/step - loss: 0.0508 - accuracy: 0.9852 - val_loss: 0.0324 - val_accuracy: 0.9906\n",
            "Epoch 11/15\n",
            "1875/1875 [==============================] - 8s 4ms/step - loss: 0.0521 - accuracy: 0.9854 - val_loss: 0.0349 - val_accuracy: 0.9900\n",
            "Epoch 12/15\n",
            "1875/1875 [==============================] - 9s 5ms/step - loss: 0.0474 - accuracy: 0.9870 - val_loss: 0.0342 - val_accuracy: 0.9908\n",
            "Epoch 13/15\n",
            "1875/1875 [==============================] - 8s 4ms/step - loss: 0.0456 - accuracy: 0.9868 - val_loss: 0.0422 - val_accuracy: 0.9890\n"
          ]
        }
      ]
    },
    {
      "cell_type": "markdown",
      "source": [
        "This model achieves the highest validation accuracy. So we save and use this model for the prediction purpose."
      ],
      "metadata": {
        "id": "1wK7Jq5M7cUA"
      }
    },
    {
      "cell_type": "code",
      "source": [
        "model4.save(\"Digit_Recognition.h5\")"
      ],
      "metadata": {
        "id": "lXrtTSt9B_oT"
      },
      "execution_count": null,
      "outputs": []
    },
    {
      "cell_type": "markdown",
      "source": [
        "# Testing the Model"
      ],
      "metadata": {
        "id": "OzDwbG9v7KvQ"
      }
    },
    {
      "cell_type": "code",
      "source": [
        "model = load_model(\"Digit_Recognition.h5\")"
      ],
      "metadata": {
        "id": "qEGS-A0N1015"
      },
      "execution_count": null,
      "outputs": []
    },
    {
      "cell_type": "code",
      "source": [
        "metrics=model.evaluate(X_test,y_test,verbose=0)\n",
        "print(\"metrics-score => test loss & accuracy\")\n",
        "print(metrics)"
      ],
      "metadata": {
        "colab": {
          "base_uri": "https://localhost:8080/"
        },
        "id": "3tcwVcMB1ygI",
        "outputId": "c7fa2949-ab70-4325-e2fd-3f561ea61c11"
      },
      "execution_count": null,
      "outputs": [
        {
          "output_type": "stream",
          "name": "stdout",
          "text": [
            "metrics-score=>test loss & accuracy\n",
            "[0.044535741209983826, 0.9864000082015991]\n"
          ]
        }
      ]
    },
    {
      "cell_type": "code",
      "source": [
        "for i in range(9):\n",
        "  plt.subplot(330+1+i)\n",
        "  plt.imshow(X_train[i].reshape(28,28),cmap='gray')\n",
        "  plt.title(np.argmax(y_train[i]))\n",
        "  plt.show()"
      ],
      "metadata": {
        "colab": {
          "base_uri": "https://localhost:8080/",
          "height": 1000
        },
        "id": "UTdbldh72_fv",
        "outputId": "28d25979-ef0f-4efd-9189-5da8fddb4a06"
      },
      "execution_count": null,
      "outputs": [
        {
          "output_type": "display_data",
          "data": {
            "text/plain": [
              "<Figure size 432x288 with 1 Axes>"
            ],
            "image/png": "[encoded data removed]"
          },
          "metadata": {
            "needs_background": "light"
          }
        },
        {
          "output_type": "display_data",
          "data": {
            "text/plain": [
              "<Figure size 432x288 with 1 Axes>"
            ],
            "image/png": "[encoded data removed]"
          },
          "metadata": {
            "needs_background": "light"
          }
        },
        {
          "output_type": "display_data",
          "data": {
            "text/plain": [
              "<Figure size 432x288 with 1 Axes>"
            ],
            "image/png": "[encoded data removed]"
          },
          "metadata": {
            "needs_background": "light"
          }
        },
        {
          "output_type": "display_data",
          "data": {
            "text/plain": [
              "<Figure size 432x288 with 1 Axes>"
            ],
            "image/png": "[encoded data removed]"
          },
          "metadata": {
            "needs_background": "light"
          }
        },
        {
          "output_type": "display_data",
          "data": {
            "text/plain": [
              "<Figure size 432x288 with 1 Axes>"
            ],
            "image/png": "[encoded data removed]"
          },
          "metadata": {
            "needs_background": "light"
          }
        },
        {
          "output_type": "display_data",
          "data": {
            "text/plain": [
              "<Figure size 432x288 with 1 Axes>"
            ],
            "image/png": "[encoded data removed]"
          },
          "metadata": {
            "needs_background": "light"
          }
        },
        {
          "output_type": "display_data",
          "data": {
            "text/plain": [
              "<Figure size 432x288 with 1 Axes>"
            ],
            "image/png": "[encoded data removed]"
          },
          "metadata": {
            "needs_background": "light"
          }
        },
        {
          "output_type": "display_data",
          "data": {
            "text/plain": [
              "<Figure size 432x288 with 1 Axes>"
            ],
            "image/png": "[encoded data removed]"
          },
          "metadata": {
            "needs_background": "light"
          }
        },
        {
          "output_type": "display_data",
          "data": {
            "text/plain": [
              "<Figure size 432x288 with 1 Axes>"
            ],
            "image/png": "[encoded data removed]"
          },
          "metadata": {
            "needs_background": "light"
          }
        }
      ]
    },
    {
      "cell_type": "markdown",
      "source": [
        "# Performance Metrics"
      ],
      "metadata": {
        "id": "vvMtS5Gj3L1C"
      }
    },
    {
      "cell_type": "markdown",
      "source": [
        "Accuracy, Precision, Recall Score are the appropriate tasks for the prediction task."
      ],
      "metadata": {
        "id": "VpHmeGlkCkN7"
      }
    },
    {
      "cell_type": "code",
      "source": [
        "test_predictions = np.argmax(model.predict(X_test), axis=1)\n",
        "\n",
        "print(len(test_predictions))"
      ],
      "metadata": {
        "colab": {
          "base_uri": "https://localhost:8080/"
        },
        "id": "YVshOTk9CttR",
        "outputId": "0ca246e6-c855-4f27-8cec-8752117eb181"
      },
      "execution_count": 23,
      "outputs": [
        {
          "output_type": "stream",
          "name": "stdout",
          "text": [
            "313/313 [==============================] - 1s 3ms/step\n",
            "10000\n"
          ]
        }
      ]
    },
    {
      "cell_type": "code",
      "source": [
        "test_labels = np.argmax(y_test, axis = 1)"
      ],
      "metadata": {
        "id": "6D6k1UluD5PE"
      },
      "execution_count": 27,
      "outputs": []
    },
    {
      "cell_type": "code",
      "source": [
        "import sklearn\n",
        "from sklearn.metrics import accuracy_score, precision_score, recall_score, f1_score, classification_report"
      ],
      "metadata": {
        "id": "HyZQCpNuDQUv"
      },
      "execution_count": 25,
      "outputs": []
    },
    {
      "cell_type": "markdown",
      "source": [
        "Accuracy"
      ],
      "metadata": {
        "id": "BPsIFCVOEUW2"
      }
    },
    {
      "cell_type": "code",
      "source": [
        "print(accuracy_score(test_labels, test_predictions))"
      ],
      "metadata": {
        "colab": {
          "base_uri": "https://localhost:8080/"
        },
        "id": "0pG2beG_EVe-",
        "outputId": "de652914-c852-4395-ff59-f78653e59b82"
      },
      "execution_count": 30,
      "outputs": [
        {
          "output_type": "stream",
          "name": "stdout",
          "text": [
            "0.9906\n"
          ]
        }
      ]
    },
    {
      "cell_type": "markdown",
      "source": [
        "Recall"
      ],
      "metadata": {
        "id": "-YA5f_qpEVxn"
      }
    },
    {
      "cell_type": "code",
      "source": [
        "print(recall_score(test_labels, test_predictions, average='weighted'))"
      ],
      "metadata": {
        "colab": {
          "base_uri": "https://localhost:8080/"
        },
        "id": "JbzI8AuMEV5Q",
        "outputId": "47e2558f-6977-49aa-cdd2-cf35e6faeaf0"
      },
      "execution_count": 33,
      "outputs": [
        {
          "output_type": "stream",
          "name": "stdout",
          "text": [
            "0.9906\n"
          ]
        }
      ]
    },
    {
      "cell_type": "markdown",
      "source": [
        "F1 score"
      ],
      "metadata": {
        "id": "7TS445S2EWAE"
      }
    },
    {
      "cell_type": "code",
      "source": [
        "print(f1_score(test_labels, test_predictions, average='weighted'))"
      ],
      "metadata": {
        "colab": {
          "base_uri": "https://localhost:8080/"
        },
        "id": "Op6aq5-lEWGT",
        "outputId": "fa8a2acd-c0e5-401f-ceab-d6b2632659c6"
      },
      "execution_count": 34,
      "outputs": [
        {
          "output_type": "stream",
          "name": "stdout",
          "text": [
            "0.9906029544489391\n"
          ]
        }
      ]
    },
    {
      "cell_type": "markdown",
      "source": [
        "Classification Report"
      ],
      "metadata": {
        "id": "ZySCEgd-ESDD"
      }
    },
    {
      "cell_type": "code",
      "source": [
        "print(classification_report(test_labels, test_predictions))"
      ],
      "metadata": {
        "colab": {
          "base_uri": "https://localhost:8080/"
        },
        "id": "GyQtkagADfFz",
        "outputId": "45b568cc-b822-4706-dd32-ec9da508f65c"
      },
      "execution_count": 29,
      "outputs": [
        {
          "output_type": "stream",
          "name": "stdout",
          "text": [
            "              precision    recall  f1-score   support\n",
            "\n",
            "           0       0.99      0.99      0.99       980\n",
            "           1       1.00      0.99      0.99      1135\n",
            "           2       0.99      0.99      0.99      1032\n",
            "           3       1.00      0.99      0.99      1010\n",
            "           4       0.99      0.99      0.99       982\n",
            "           5       0.99      0.99      0.99       892\n",
            "           6       0.99      0.99      0.99       958\n",
            "           7       0.98      0.99      0.99      1028\n",
            "           8       0.98      1.00      0.99       974\n",
            "           9       0.99      0.98      0.99      1009\n",
            "\n",
            "    accuracy                           0.99     10000\n",
            "   macro avg       0.99      0.99      0.99     10000\n",
            "weighted avg       0.99      0.99      0.99     10000\n",
            "\n"
          ]
        }
      ]
    }
  ]
}